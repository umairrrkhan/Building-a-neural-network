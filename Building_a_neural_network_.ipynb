{
  "nbformat": 4,
  "nbformat_minor": 0,
  "metadata": {
    "colab": {
      "provenance": []
    },
    "kernelspec": {
      "name": "python3",
      "display_name": "Python 3"
    },
    "language_info": {
      "name": "python"
    }
  },
  "cells": [
    {
      "cell_type": "code",
      "source": [
        "import tensorflow as tf\n",
        "\n",
        "tf.config.list_physical_devices('GPU')  # function to list the available physical devices on the system. Specifically,\n",
        "                                        # it's looking for GPUs (Graphics Processing Units) available in the system."
      ],
      "metadata": {
        "colab": {
          "base_uri": "https://localhost:8080/"
        },
        "id": "SuamvjVkqUHP",
        "outputId": "4914b33f-be66-4571-a601-76aad876d944"
      },
      "execution_count": 4,
      "outputs": [
        {
          "output_type": "execute_result",
          "data": {
            "text/plain": [
              "[]"
            ]
          },
          "metadata": {},
          "execution_count": 4
        }
      ]
    },
    {
      "cell_type": "code",
      "source": [
        "# DATA"
      ],
      "metadata": {
        "id": "uKxovo-2t3ST"
      },
      "execution_count": null,
      "outputs": []
    },
    {
      "cell_type": "code",
      "source": [
        "fashion_mnist = tf.keras.datasets.fashion_mnist  #This line imports the Fashion-MNIST dataset module from TensorFlow's Keras API.\n",
        "\n",
        "(train_images, train_labels), (valid_images, valid_labels) = fashion_mnist.load_data()\n",
        "\n",
        "# This line loads the Fashion-MNIST dataset into four NumPy arrays: train_images, train_labels, valid_images, and valid_labels\n"
      ],
      "metadata": {
        "colab": {
          "base_uri": "https://localhost:8080/"
        },
        "id": "DFd6bMYQq2JK",
        "outputId": "4916af78-a88e-41ef-e779-c55f57a7745b"
      },
      "execution_count": 5,
      "outputs": [
        {
          "output_type": "stream",
          "name": "stdout",
          "text": [
            "Downloading data from https://storage.googleapis.com/tensorflow/tf-keras-datasets/train-labels-idx1-ubyte.gz\n",
            "29515/29515 [==============================] - 0s 0us/step\n",
            "Downloading data from https://storage.googleapis.com/tensorflow/tf-keras-datasets/train-images-idx3-ubyte.gz\n",
            "26421880/26421880 [==============================] - 1s 0us/step\n",
            "Downloading data from https://storage.googleapis.com/tensorflow/tf-keras-datasets/t10k-labels-idx1-ubyte.gz\n",
            "5148/5148 [==============================] - 0s 0us/step\n",
            "Downloading data from https://storage.googleapis.com/tensorflow/tf-keras-datasets/t10k-images-idx3-ubyte.gz\n",
            "4422102/4422102 [==============================] - 0s 0us/step\n"
          ]
        }
      ]
    },
    {
      "cell_type": "code",
      "source": [
        "import matplotlib.pyplot as plt\n",
        "\n",
        "data_idx = 30    # we can do upto 59999.\n",
        "\n",
        "plt.figure() # A figure is a container for all the elements of a plot, such as the image and any annotations.\n",
        "plt.imshow(train_images[data_idx], cmap='gray') # im show can show the image\n",
        "                                # cmap='gray' specifies that the image should be displayed in grayscale\n",
        "plt.colorbar() # its shows the colour bar like temperature meter\n",
        "plt.grid(False)\n",
        "plt.show()"
      ],
      "metadata": {
        "colab": {
          "base_uri": "https://localhost:8080/",
          "height": 430
        },
        "id": "eGEm4aAdr9Tx",
        "outputId": "7c6dc557-59cc-44b2-cee8-ffb31e44a6e6"
      },
      "execution_count": 39,
      "outputs": [
        {
          "output_type": "display_data",
          "data": {
            "text/plain": [
              "<Figure size 640x480 with 2 Axes>"
            ],
            "image/png": "[encoded data removed]"
          },
          "metadata": {}
        }
      ]
    },
    {
      "cell_type": "code",
      "source": [
        "train_labels[data_idx]"
      ],
      "metadata": {
        "colab": {
          "base_uri": "https://localhost:8080/"
        },
        "id": "e1PQi2oKsL7R",
        "outputId": "97aa9ca7-4372-43ec-8e81-a98f53f5ecd5"
      },
      "execution_count": 11,
      "outputs": [
        {
          "output_type": "execute_result",
          "data": {
            "text/plain": [
              "9"
            ]
          },
          "metadata": {},
          "execution_count": 11
        }
      ]
    },
    {
      "cell_type": "code",
      "source": [
        "import matplotlib.pyplot as plt\n",
        "\n",
        "data_idx = 99\n",
        "\n",
        "plt.figure()\n",
        "plt.imshow(valid_images[data_idx], cmap='gray')\n",
        "plt.colorbar()\n",
        "plt.grid(False)\n",
        "plt.show()"
      ],
      "metadata": {
        "colab": {
          "base_uri": "https://localhost:8080/",
          "height": 430
        },
        "id": "RnPYKJCJsmsy",
        "outputId": "d3c262b0-4735-4dbc-b884-1e4de3c28dec"
      },
      "execution_count": 40,
      "outputs": [
        {
          "output_type": "display_data",
          "data": {
            "text/plain": [
              "<Figure size 640x480 with 2 Axes>"
            ],
            "image/png": "[encoded data removed]"
          },
          "metadata": {}
        }
      ]
    },
    {
      "cell_type": "code",
      "source": [
        "valid_labels[data_idx]"
      ],
      "metadata": {
        "colab": {
          "base_uri": "https://localhost:8080/"
        },
        "id": "8yOQgrassvOB",
        "outputId": "1b9cc4cc-e696-403b-f237-2fd3045ed4a9"
      },
      "execution_count": 13,
      "outputs": [
        {
          "output_type": "execute_result",
          "data": {
            "text/plain": [
              "7"
            ]
          },
          "metadata": {},
          "execution_count": 13
        }
      ]
    },
    {
      "cell_type": "code",
      "source": [
        "# we build the Neurons"
      ],
      "metadata": {
        "id": "ruZ9pBX6uJ4N"
      },
      "execution_count": null,
      "outputs": []
    },
    {
      "cell_type": "code",
      "source": [
        "# 28 lists with 28 values each\n",
        "valid_images[data_idx]"
      ],
      "metadata": {
        "colab": {
          "base_uri": "https://localhost:8080/"
        },
        "id": "GVGA_S6Cszlb",
        "outputId": "a9e2fd4c-2eb3-4c1e-9606-40e661a0a963"
      },
      "execution_count": 14,
      "outputs": [
        {
          "output_type": "execute_result",
          "data": {
            "text/plain": [
              "array([[  0,   0,   0,   0,   0,   0,   0,   0,   0,   0,   0,   0,   0,\n",
              "          0,   0,   0,   0,   0,   0,   0,   0,   0,   0,   0,   0,   0,\n",
              "          0,   0],\n",
              "       [  0,   0,   0,   0,   0,   0,   0,   0,   0,   0,   0,   0,   0,\n",
              "          0,   0,   0,   0,   0,   0,   0,   0,   0,   0,   0,   0,   0,\n",
              "          0,   0],\n",
              "       [  0,   0,   0,   0,   0,   0,   0,   0,   0,   0,   0,   0,   0,\n",
              "          0,   0,   0,   0,   0,   0,   0,   0,   0,   0,   0,   0,   0,\n",
              "          0,   0],\n",
              "       [  0,   0,   0,   0,   0,   0,   0,   0,   0,   0,   0,   0,   0,\n",
              "          0,   0,   0,   0,   0,   0,   0,   0,   0,   0,   0,   0,   0,\n",
              "          0,   0],\n",
              "       [  0,   0,   0,   0,   0,   0,   0,   0,   0,   0,   0,   0,   0,\n",
              "          0,   0,   0,   0,   0,   0,   0,   0,   0,   0,   0,   0,   0,\n",
              "          0,   0],\n",
              "       [  0,   0,   0,   0,   0,   0,   0,   0,   0,   0,   0,   0,   0,\n",
              "          0,   0,   0,   0,   0,   0,   0,   0,   0,   0,   0,   0,   0,\n",
              "          0,   0],\n",
              "       [  0,   0,   0,   0,   0,   0,   0,   0,   0,   0,   0,   0,   0,\n",
              "          0,   0,   0,   0,   0,   0,   0,   0,   0,   0,   0,   0,   0,\n",
              "          0,   0],\n",
              "       [  0,   0,   0,   0,   0,   0,   0,   0,   0,   0,   0,   0,   0,\n",
              "          0,   0,   0, 155, 133,   0,   0,   1,   0,   0,   3,   0,   0,\n",
              "          0,   0],\n",
              "       [  0,   0,   0,   0,   0,   0,   0,   0,   0,   5,   0,   0,   0,\n",
              "          1,   0,   0, 175, 235,  35,   0,   3,   0,   5,   2,   3,   1,\n",
              "          0,   0],\n",
              "       [  0,   0,   0,   0,   0,   0,   0,   0,   0,   0,   1,   0,   0,\n",
              "          0,   0,  93, 219, 220,  32,   0,   0,   0,   0,   0,   0,   0,\n",
              "          1,   0],\n",
              "       [  0,   0,   0,   0,   0,   0,   0,   0,   0,   0,   2,   2,   0,\n",
              "          0, 147, 218, 159, 218,  28,   0,   2,   0,  82, 202, 115,   0,\n",
              "          0,   1],\n",
              "       [  0,   0,   0,   0,   0,   0,   0,   0,   2,   0,   0,   0,   0,\n",
              "        144, 248, 155, 105, 174,  87,   0,   0,   0, 233, 253, 213,   8,\n",
              "          0,   1],\n",
              "       [  1,   0,   0,   0,   1,   2,   2,   0,   0,   0,   0,  99, 233,\n",
              "        119,  81,  89, 140, 183, 208, 139,  74, 218, 223, 184, 189, 145,\n",
              "          0,   0],\n",
              "       [  0,   1,   2,   3,   5,   0,   0,   0,   0, 173, 153, 195,  97,\n",
              "        157, 220, 228, 213, 189, 182, 189, 220, 213, 174, 185, 186, 198,\n",
              "          0,   0],\n",
              "       [  1,   0,   0,   0,   0,  10, 129, 202, 198, 129, 149,  84, 124,\n",
              "        236, 221, 209, 226, 221, 166, 186, 179, 178, 205, 177, 206, 196,\n",
              "          0,   0],\n",
              "       [  0,   0,   6,  49,  80, 148, 203, 181, 203, 164, 145, 178, 159,\n",
              "        138, 174, 186, 162, 169, 177, 200, 214, 206, 178, 179, 205, 227,\n",
              "          6,   0],\n",
              "       [  3, 104, 128, 126, 124, 105,  85,  75,  99, 181, 140, 141, 185,\n",
              "        179, 181, 183, 185, 204, 227, 255, 224, 226, 234, 227, 159, 198,\n",
              "        198,   0],\n",
              "       [ 62, 150, 115, 111,  91, 117, 131, 102, 129, 120, 153, 176, 216,\n",
              "        232, 238, 238, 211, 242, 173,  26,   0,  54, 104,  20,   0,   0,\n",
              "         48,  16],\n",
              "       [116, 179, 173, 173, 202, 188, 200, 228, 179, 150, 100,  89, 164,\n",
              "         39,   0,  82, 129,  17,   0,   0,   0,   0,   0,   0,  25,  11,\n",
              "          0,  12],\n",
              "       [ 10, 122, 108, 148, 115, 145, 148,  79,  38,   0,   0,   0,   0,\n",
              "          0,   0,   0,   0,   0,   9,  14,   7,  18,   9,   5,   0,  12,\n",
              "          0,   0],\n",
              "       [  0,   5,  57,  67,   0,   0,   0,   1,   0,   0,   8,   8,  71,\n",
              "         55,  11,  32,  30,  30,  17,   4,   3,   9,  15,  17,  29,  37,\n",
              "         92, 106],\n",
              "       [  0,   0,   0,  58,  50, 142, 169,  80, 144, 156, 148, 159, 152,\n",
              "        156, 136, 151, 142,  70, 139, 161,  98, 131, 145,  60, 141, 121,\n",
              "         77,   0],\n",
              "       [  0,   0,   0,   0,   0,   0,   0,   0,   0,   0,   0,   0,   0,\n",
              "          0,   0,   0,   0,   0,   0,   0,   0,   0,   0,   0,   0,   0,\n",
              "          0,   0],\n",
              "       [  0,   0,   0,   0,   0,   0,   0,   0,   0,   0,   0,   0,   0,\n",
              "          0,   0,   0,   0,   0,   0,   0,   0,   0,   0,   0,   0,   0,\n",
              "          0,   0],\n",
              "       [  0,   0,   0,   0,   0,   0,   0,   0,   0,   0,   0,   0,   0,\n",
              "          0,   0,   0,   0,   0,   0,   0,   0,   0,   0,   0,   0,   0,\n",
              "          0,   0],\n",
              "       [  0,   0,   0,   0,   0,   0,   0,   0,   0,   0,   0,   0,   0,\n",
              "          0,   0,   0,   0,   0,   0,   0,   0,   0,   0,   0,   0,   0,\n",
              "          0,   0],\n",
              "       [  0,   0,   0,   0,   0,   0,   0,   0,   0,   0,   0,   0,   0,\n",
              "          0,   0,   0,   0,   0,   0,   0,   0,   0,   0,   0,   0,   0,\n",
              "          0,   0],\n",
              "       [  0,   0,   0,   0,   0,   0,   0,   0,   0,   0,   0,   0,   0,\n",
              "          0,   0,   0,   0,   0,   0,   0,   0,   0,   0,   0,   0,   0,\n",
              "          0,   0]], dtype=uint8)"
            ]
          },
          "metadata": {},
          "execution_count": 14
        }
      ]
    },
    {
      "cell_type": "code",
      "source": [
        "number_of_classes = train_labels.max() + 1\n",
        "number_of_classes"
      ],
      "metadata": {
        "colab": {
          "base_uri": "https://localhost:8080/"
        },
        "id": "3ikS_XN2s3N5",
        "outputId": "7c17bf54-ec66-4a88-8641-0b6b7433721d"
      },
      "execution_count": 15,
      "outputs": [
        {
          "output_type": "execute_result",
          "data": {
            "text/plain": [
              "10"
            ]
          },
          "metadata": {},
          "execution_count": 15
        }
      ]
    },
    {
      "cell_type": "code",
      "source": [
        "model = tf.keras.Sequential([\n",
        "    tf.keras.layers.Flatten(input_shape=(28, 28)), # this used to chenge the 2d into 1d\n",
        "    tf.keras.layers.Dense(number_of_classes) # This is the second layer of the model. It is a fully connected (dense) layer that connects every neuron from the previous layer (Flatten) to each neuron in this layer.\n",
        "])"
      ],
      "metadata": {
        "id": "vs8Yfck3s70Y"
      },
      "execution_count": 41,
      "outputs": []
    },
    {
      "cell_type": "code",
      "source": [
        "# Verifying the model"
      ],
      "metadata": {
        "id": "9ugWAxwus-PN"
      },
      "execution_count": 18,
      "outputs": []
    },
    {
      "cell_type": "code",
      "source": [
        "model.summary()"
      ],
      "metadata": {
        "colab": {
          "base_uri": "https://localhost:8080/"
        },
        "id": "-c1GAzJxtFq0",
        "outputId": "9829dd91-7427-4bd3-a13a-2146e4a023ff"
      },
      "execution_count": 19,
      "outputs": [
        {
          "output_type": "stream",
          "name": "stdout",
          "text": [
            "Model: \"sequential_1\"\n",
            "_________________________________________________________________\n",
            " Layer (type)                Output Shape              Param #   \n",
            "=================================================================\n",
            " flatten_1 (Flatten)         (None, 784)               0         \n",
            "                                                                 \n",
            " dense_1 (Dense)             (None, 10)                7850      \n",
            "                                                                 \n",
            "=================================================================\n",
            "Total params: 7,850\n",
            "Trainable params: 7,850\n",
            "Non-trainable params: 0\n",
            "_________________________________________________________________\n"
          ]
        }
      ]
    },
    {
      "cell_type": "code",
      "source": [
        "image_height = 28\n",
        "image_width = 28\n",
        "\n",
        "number_of_weights = image_height * image_width * number_of_classes\n",
        "number_of_weights"
      ],
      "metadata": {
        "colab": {
          "base_uri": "https://localhost:8080/"
        },
        "id": "PniMdfdNtGat",
        "outputId": "8c850056-15bf-4c5c-8201-ef9e2fa291ef"
      },
      "execution_count": 20,
      "outputs": [
        {
          "output_type": "execute_result",
          "data": {
            "text/plain": [
              "7840"
            ]
          },
          "metadata": {},
          "execution_count": 20
        }
      ]
    },
    {
      "cell_type": "code",
      "source": [
        "tf.keras.utils.plot_model(model, show_shapes=True)"
      ],
      "metadata": {
        "colab": {
          "base_uri": "https://localhost:8080/",
          "height": 312
        },
        "id": "RaKohTGGtKD_",
        "outputId": "ad2a3580-5cc8-4029-c5df-23d10a11af7a"
      },
      "execution_count": 21,
      "outputs": [
        {
          "output_type": "execute_result",
          "data": {
            "image/png": "[encoded data removed]",
            "text/plain": [
              "<IPython.core.display.Image object>"
            ]
          },
          "metadata": {},
          "execution_count": 21
        }
      ]
    },
    {
      "cell_type": "code",
      "source": [
        "model.compile(optimizer='adam',\n",
        "              loss=tf.keras.losses.SparseCategoricalCrossentropy(from_logits=True),\n",
        "              metrics=['accuracy'])"
      ],
      "metadata": {
        "id": "_Q5bXHQZtOhE"
      },
      "execution_count": 22,
      "outputs": []
    },
    {
      "cell_type": "code",
      "source": [
        "# evaluating model"
      ],
      "metadata": {
        "id": "TrBjch-dtU4Q"
      },
      "execution_count": 23,
      "outputs": []
    },
    {
      "cell_type": "code",
      "source": [
        "history = model.fit(\n",
        "    train_images,\n",
        "    train_labels,\n",
        "    epochs=5,       # The epochs parameter specifies the number of times the model will see the entire training dataset during training.\n",
        "    verbose=True,   # The verbose parameter controls the amount of output displayed during training\n",
        "    validation_data=(valid_images, valid_labels)\n",
        ")"
      ],
      "metadata": {
        "colab": {
          "base_uri": "https://localhost:8080/"
        },
        "id": "lQ1dp4zltaih",
        "outputId": "5bf67ead-56e9-4273-bc2f-2fac5427db49"
      },
      "execution_count": 24,
      "outputs": [
        {
          "output_type": "stream",
          "name": "stdout",
          "text": [
            "Epoch 1/5\n",
            "1875/1875 [==============================] - 8s 4ms/step - loss: 16.8208 - accuracy: 0.7491 - val_loss: 16.1960 - val_accuracy: 0.7451\n",
            "Epoch 2/5\n",
            "1875/1875 [==============================] - 4s 2ms/step - loss: 12.1807 - accuracy: 0.7888 - val_loss: 13.8284 - val_accuracy: 0.7813\n",
            "Epoch 3/5\n",
            "1875/1875 [==============================] - 7s 4ms/step - loss: 11.2909 - accuracy: 0.7956 - val_loss: 12.1551 - val_accuracy: 0.7896\n",
            "Epoch 4/5\n",
            "1875/1875 [==============================] - 8s 4ms/step - loss: 11.0214 - accuracy: 0.8002 - val_loss: 10.7367 - val_accuracy: 0.7906\n",
            "Epoch 5/5\n",
            "1875/1875 [==============================] - 5s 3ms/step - loss: 10.5918 - accuracy: 0.8025 - val_loss: 12.2979 - val_accuracy: 0.7638\n"
          ]
        }
      ]
    },
    {
      "cell_type": "code",
      "source": [
        "# Prediction"
      ],
      "metadata": {
        "id": "F1yWTJzCtbH9"
      },
      "execution_count": 25,
      "outputs": []
    },
    {
      "cell_type": "code",
      "source": [
        "model.predict(train_images[0:10])"
      ],
      "metadata": {
        "colab": {
          "base_uri": "https://localhost:8080/"
        },
        "id": "nWNSY_WRtg7z",
        "outputId": "35a37a38-afec-4bfc-e40e-e43855cb381f"
      },
      "execution_count": 26,
      "outputs": [
        {
          "output_type": "stream",
          "name": "stdout",
          "text": [
            "1/1 [==============================] - 0s 323ms/step\n"
          ]
        },
        {
          "output_type": "execute_result",
          "data": {
            "text/plain": [
              "array([[-2.75512512e+02, -6.47648743e+02, -7.60440674e+01,\n",
              "        -2.03155548e+02, -2.25934784e+02,  4.55966492e+02,\n",
              "        -4.50054016e+01,  3.31989868e+02, -2.37802982e+01,\n",
              "         7.18815125e+02],\n",
              "       [ 3.71092834e+02, -2.16836426e+02,  3.38481171e+02,\n",
              "         2.59835815e+02,  3.66870117e+01, -1.24947559e+03,\n",
              "         3.46033051e+02, -1.80871411e+03, -1.96433365e+02,\n",
              "        -9.26509399e+02],\n",
              "       [ 8.67791290e+01,  6.01651192e+01,  9.06992798e+01,\n",
              "         1.06663658e+02,  9.09483948e+01, -4.92542206e+02,\n",
              "         7.47430573e+01, -4.94957977e+02, -1.35099976e+02,\n",
              "        -2.56394653e+02],\n",
              "       [ 1.79640945e+02,  9.53793106e+01,  1.86930801e+02,\n",
              "         2.26584549e+02,  1.18467407e+02, -8.01196289e+02,\n",
              "         1.85071045e+02, -1.04194885e+03, -1.72935776e+02,\n",
              "        -6.56874573e+02],\n",
              "       [ 2.20079132e+02,  2.61762329e+02,  1.90727081e+02,\n",
              "         2.81884155e+02,  2.19802368e+02, -8.75579041e+02,\n",
              "         1.75800674e+02, -7.53097534e+02, -9.23413773e+01,\n",
              "        -7.29739197e+02],\n",
              "       [ 2.48916290e+02, -2.20229397e+01,  4.65821564e+02,\n",
              "         2.44927856e+02,  3.00982758e+02, -7.74028137e+02,\n",
              "         3.09884308e+02, -1.62124548e+03, -1.16835625e+02,\n",
              "        -9.29135681e+02],\n",
              "       [-1.47013702e+02, -2.37552536e+02, -2.15085564e+01,\n",
              "        -1.24669579e+02, -1.24810471e+02,  2.87488312e+02,\n",
              "        -1.07125114e+02,  2.63281281e+02,  6.03004074e+01,\n",
              "         6.98339615e+01],\n",
              "       [ 2.16085541e+02, -3.13690247e+02,  4.83250977e+02,\n",
              "         1.79836700e+02,  4.24172424e+02, -1.08754089e+03,\n",
              "         3.20985321e+02, -1.71113647e+03, -7.18304825e+01,\n",
              "        -7.41350952e+02],\n",
              "       [-2.19397247e-01, -4.68953186e+02, -3.20204391e+01,\n",
              "        -1.33165009e+02, -1.69549438e+02,  5.35297546e+02,\n",
              "        -6.26181946e+01,  1.19246092e+01, -4.10388107e+01,\n",
              "         2.47361221e+02],\n",
              "       [-7.60137863e+01, -2.90506500e+02,  7.17825775e+01,\n",
              "        -4.89649734e+01, -1.61877251e+01,  9.96460510e+02,\n",
              "         1.31657200e+01, -4.06737175e+01,  1.54066238e+02,\n",
              "         3.90829529e+02]], dtype=float32)"
            ]
          },
          "metadata": {},
          "execution_count": 26
        }
      ]
    },
    {
      "cell_type": "code",
      "source": [
        "data_idx = 6643\n",
        "\n",
        "plt.figure()\n",
        "plt.imshow(train_images[data_idx], cmap='gray')\n",
        "plt.colorbar()\n",
        "plt.grid(False)\n",
        "plt.show()\n",
        "\n",
        "x_values = range(number_of_classes)\n",
        "plt.figure()\n",
        "plt.bar(x_values, model.predict(train_images[data_idx:data_idx+1]).flatten())\n",
        "plt.xticks(range(10))\n",
        "plt.show()\n",
        "\n",
        "print(\"correct answer:\", train_labels[data_idx])"
      ],
      "metadata": {
        "colab": {
          "base_uri": "https://localhost:8080/",
          "height": 878
        },
        "id": "QEDJ4IyYtlb7",
        "outputId": "9e5751b0-6e5d-4fa8-efca-139cc6e61618"
      },
      "execution_count": 46,
      "outputs": [
        {
          "output_type": "display_data",
          "data": {
            "text/plain": [
              "<Figure size 640x480 with 2 Axes>"
            ],
            "image/png": "[encoded data removed]"
          },
          "metadata": {}
        },
        {
          "output_type": "stream",
          "name": "stdout",
          "text": [
            "1/1 [==============================] - 0s 71ms/step\n"
          ]
        },
        {
          "output_type": "display_data",
          "data": {
            "text/plain": [
              "<Figure size 640x480 with 1 Axes>"
            ],
            "image/png": "[encoded data removed]"
          },
          "metadata": {}
        },
        {
          "output_type": "stream",
          "name": "stdout",
          "text": [
            "correct answer: 6\n"
          ]
        }
      ]
    },
    {
      "cell_type": "code",
      "source": [],
      "metadata": {
        "id": "cfdmBt5otmeQ"
      },
      "execution_count": null,
      "outputs": []
    }
  ]
}